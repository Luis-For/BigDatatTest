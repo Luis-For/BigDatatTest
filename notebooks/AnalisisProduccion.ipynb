{
 "cells": [
  {
   "cell_type": "code",
   "execution_count": null,
   "id": "ca4c2529",
   "metadata": {
    "vscode": {
     "languageId": "plaintext"
    }
   },
   "outputs": [],
   "source": [
    "from pyspark.sql.functions import col, sum\n",
    "\n",
    "df.groupBy(\"Year\").agg(\n",
    "    sum(\"Value\").alias(\"Total Production\")\n",
    ").orderBy(\"Year\").show()\n"
   ]
  }
 ],
 "metadata": {
  "language_info": {
   "name": "python"
  }
 },
 "nbformat": 4,
 "nbformat_minor": 5
}
